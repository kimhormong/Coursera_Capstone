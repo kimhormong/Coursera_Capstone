{
 "cells": [
  {
   "cell_type": "markdown",
   "metadata": {},
   "source": [
    "## Introduction"
   ]
  },
  {
   "cell_type": "markdown",
   "metadata": {},
   "source": [
    "Toronto is the capital city of the Canadian province of Ontario. Its current area is 630.20 $km^2$ (243.3 square mile). With a recorded population of 2,731,571 in 2016, it is the most populous city in Canada and the fourth most populous city in North America.\n",
    "\n",
    "Toronto is a prominent centre for music, theatre, motion picture production, and television production, and is home to the headquarters of Canada's major national broadcast networks and media outlets. Its varied cultural institutions, which include numerous museums and galleries, festivals and public events, entertainment districts, national historic sites, and sports activities, attract over 43 million tourists each year.\n",
    "\n",
    "If you're one of those 43 million tourists, you might have many concerns when you visit Toronto. These concerns may include place to go, eat, sleep, shop and so on.\n",
    "\n",
    "This project aims to select top 10 resturants in 8 boroughs(Downtown Toronto, West Toronto, East Toronto, Central Toronto, North York, Scarborough, East York, Etobicoke) of Toronto based on number of likes and rating resturants from Foursquare. Foursquare is a local search-and-discovery mobile app developed by Foursquare Labs Inc. It also has web app and API."
   ]
  }
 ],
 "metadata": {
  "kernelspec": {
   "display_name": "Python 3",
   "language": "python",
   "name": "python3"
  },
  "language_info": {
   "codemirror_mode": {
    "name": "ipython",
    "version": 3
   },
   "file_extension": ".py",
   "mimetype": "text/x-python",
   "name": "python",
   "nbconvert_exporter": "python",
   "pygments_lexer": "ipython3",
   "version": "3.7.3"
  }
 },
 "nbformat": 4,
 "nbformat_minor": 2
}
