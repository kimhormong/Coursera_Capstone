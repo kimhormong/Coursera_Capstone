{
 "cells": [
  {
   "cell_type": "markdown",
   "metadata": {},
   "source": [
    "## Data <a name=\"data\"></a>"
   ]
  },
  {
   "cell_type": "markdown",
   "metadata": {},
   "source": [
    "To discover resturants of concern, following data are used:\n",
    "\n",
    "* <b> Foursquare API </b>: Forsquare API to get the most common resturants of a given neighbourhood of a borough. It's in json format.\n",
    "\n",
    "* <b> Postal Code of Boroughs in Toronto </b>:\n",
    "Postcal code of neighbourhoods of a given borough in Toronto. This data can be obtained from wikipedia using Pandas. This data consist of Postal Code, Borough and Neighbourhood. It's in Tabular format. <a href='https://en.wikipedia.org/wiki/List_of_postal_codes_of_Canada:_M'>Link</a>. \n",
    "* <b> Neighbourhood Latitude and Longitude </b>: Neighbourhood Latitude and Longitude of a given borough. Latitude and Longitude are used to obtain the most common resturants in a given neighbourhood using Foursquare API. It can be found in Geospatial_Coordinates.csv. It's a csv file.\n"
   ]
  }
 ],
 "metadata": {
  "kernelspec": {
   "display_name": "Python 3",
   "language": "python",
   "name": "python3"
  },
  "language_info": {
   "codemirror_mode": {
    "name": "ipython",
    "version": 3
   },
   "file_extension": ".py",
   "mimetype": "text/x-python",
   "name": "python",
   "nbconvert_exporter": "python",
   "pygments_lexer": "ipython3",
   "version": "3.7.3"
  }
 },
 "nbformat": 4,
 "nbformat_minor": 2
}
